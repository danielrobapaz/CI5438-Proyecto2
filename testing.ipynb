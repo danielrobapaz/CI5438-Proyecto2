{
 "cells": [
  {
   "cell_type": "code",
   "execution_count": null,
   "metadata": {},
   "outputs": [],
   "source": [
    "import pandas as pd\n",
    "import numpy as np\n",
    "from Neural_Network import Neural_Network\n",
    "import warnings\n",
    "import matplotlib.pyplot as plt\n",
    "import seaborn as sns\n",
    "warnings.filterwarnings('ignore')"
   ]
  },
  {
   "cell_type": "markdown",
   "metadata": {},
   "source": [
    "# Parte 1. Iris.csv."
   ]
  },
  {
   "cell_type": "code",
   "execution_count": null,
   "metadata": {},
   "outputs": [],
   "source": [
    "iris = pd.read_csv('datasets/iris.csv')"
   ]
  },
  {
   "cell_type": "code",
   "execution_count": null,
   "metadata": {},
   "outputs": [],
   "source": [
    "sns.pairplot(data=iris, hue='species')"
   ]
  },
  {
   "cell_type": "code",
   "execution_count": null,
   "metadata": {},
   "outputs": [],
   "source": [
    "def automate_testing(df: pd.DataFrame,\n",
    "                     ind_vars: [str],\n",
    "                     dep_vars: [str],\n",
    "                     hidden_layer_lengths: [[int]],\n",
    "                     max_iter : [int],\n",
    "                     learning_rate: [int]) -> pd.DataFrame:\n",
    "    \n",
    "    result_df = pd.DataFrame()\n",
    "    num_experimento = 1\n",
    "    for hidden_layers in hidden_layer_lengths:\n",
    "        for iter in max_iter:\n",
    "            for rate in learning_rate:\n",
    "                nw = Neural_Network(dataset=df,\n",
    "                                    ind_vars=ind_vars,\n",
    "                                    dep_vars=dep_vars,\n",
    "                                    hidden_layer_lengths=hidden_layers,\n",
    "                                    max_iter = iter,\n",
    "                                    learning_rate=rate)\n",
    "                \n",
    "                print(f\"Experimento {num_experimento}\")\n",
    "                [mean_error, min_error, max_error] = nw.get_model()\n",
    "                data = {\n",
    "                    'num_experimento':[num_experimento],\n",
    "                    'num_neuronas_por_capa_oculta': [hidden_layers],\n",
    "                    'tasa_de_aprendizaje': [rate],\n",
    "                    'iteraciones': [iter],\n",
    "                    'error_medio': [mean_error],\n",
    "                    'error_minimo': [min_error],\n",
    "                    'max_error': [max_error]\n",
    "                }\n",
    "                curr_df = pd.DataFrame(data=data)\n",
    "                result_df = pd.concat([result_df, curr_df])\n",
    "                num_experimento += 1\n",
    "\n",
    "    return result_df"
   ]
  },
  {
   "cell_type": "code",
   "execution_count": null,
   "metadata": {},
   "outputs": [],
   "source": [
    "iris_setosa = iris.copy()\n",
    "iris_setosa['species'] = iris_setosa['species'].apply(lambda s: 1 if s == 'Iris-setosa' else 0)"
   ]
  },
  {
   "cell_type": "code",
   "execution_count": null,
   "metadata": {},
   "outputs": [],
   "source": [
    "iris_versicolor = iris.copy()\n",
    "iris_versicolor['species'] = iris_versicolor['species'].apply(lambda s: 1 if s == 'Iris-versicolor' else 0)"
   ]
  },
  {
   "cell_type": "code",
   "execution_count": null,
   "metadata": {},
   "outputs": [],
   "source": [
    "iris_virginica = iris.copy()\n",
    "iris_virginica['species'] = iris_virginica['species'].apply(lambda s: 1 if s == 'Iris-virginica' else 0)"
   ]
  },
  {
   "cell_type": "code",
   "execution_count": null,
   "metadata": {},
   "outputs": [],
   "source": [
    "species = ['Iris-setosa', 'Iris-versicolor', 'Iris-virginica']\n",
    "iris_species = iris.copy()\n",
    "iris_species = pd.get_dummies(iris, columns=['species'])"
   ]
  },
  {
   "cell_type": "markdown",
   "metadata": {},
   "source": [
    "## Clasificadores binarios"
   ]
  },
  {
   "cell_type": "markdown",
   "metadata": {},
   "source": [
    "### Una sola neurona "
   ]
  },
  {
   "cell_type": "markdown",
   "metadata": {},
   "source": [
    "#### Iris setosa"
   ]
  },
  {
   "cell_type": "code",
   "execution_count": null,
   "metadata": {},
   "outputs": [],
   "source": [
    "# iris_setosa_una_neurona = automate_testing(df = iris_setosa,\n",
    "#                                             ind_vars = ['sepal_length', 'sepal_width', 'petal_length', 'petal_width'],\n",
    "#                                             dep_vars=['species'],\n",
    "#                                             hidden_layer_lengths=[[]],\n",
    "#                                             max_iter=[1000, 2000],\n",
    "#                                             learning_rate=[0.1, 0.01])\n",
    "# iris_setosa_una_neurona.to_csv('datasets/iris_setosa_una_neurona.csv', index=False)"
   ]
  },
  {
   "cell_type": "markdown",
   "metadata": {},
   "source": [
    "#### Iris versicolor"
   ]
  },
  {
   "cell_type": "code",
   "execution_count": null,
   "metadata": {},
   "outputs": [],
   "source": [
    "# iris_versicolor_una_neurona = automate_testing(df = iris_versicolor,\n",
    "#                                             ind_vars = ['sepal_length', 'sepal_width', 'petal_length', 'petal_width'],\n",
    "#                                             dep_vars=['species'],\n",
    "#                                             hidden_layer_lengths=[[]],\n",
    "#                                             max_iter=[1000, 2000],\n",
    "#                                             learning_rate=[0.1, 0.01])\n",
    "# iris_versicolor_una_neurona.to_csv('datasets/iris_versicolor_una_neurona.csv', index=False)"
   ]
  },
  {
   "cell_type": "markdown",
   "metadata": {},
   "source": [
    "#### Iris virginica"
   ]
  },
  {
   "cell_type": "code",
   "execution_count": null,
   "metadata": {},
   "outputs": [],
   "source": [
    "# iris_virginica_una_neurona = automate_testing(df = iris_virginica,\n",
    "#                                             ind_vars = ['sepal_length', 'sepal_width', 'petal_length', 'petal_width'],\n",
    "#                                             dep_vars=['species'],\n",
    "#                                             hidden_layer_lengths=[[]],\n",
    "#                                             max_iter=[1000, 2000],\n",
    "#                                             learning_rate=[0.1, 0.01])\n",
    "# iris_virginica_una_neurona.to_csv('datasets/iris_virginica_una_neurona.csv', index=False)"
   ]
  },
  {
   "cell_type": "markdown",
   "metadata": {},
   "source": [
    "### Una capa oculta"
   ]
  },
  {
   "cell_type": "markdown",
   "metadata": {},
   "source": [
    "#### Iris setosa"
   ]
  },
  {
   "cell_type": "code",
   "execution_count": null,
   "metadata": {},
   "outputs": [],
   "source": [
    "# iris_setosa_una_capa = automate_testing(df = iris_setosa,\n",
    "#                                             ind_vars = ['sepal_length', 'sepal_width', 'petal_length', 'petal_width'],\n",
    "#                                             dep_vars=['species'],\n",
    "#                                             hidden_layer_lengths=[[1], [2], [4], [8]],\n",
    "#                                             max_iter=[1000, 2000],\n",
    "#                                             learning_rate=[0.1, 0.01])\n",
    "# iris_setosa_una_capa.to_csv('datasets/iris_setosa_una_capa.csv', index=False)"
   ]
  },
  {
   "cell_type": "markdown",
   "metadata": {},
   "source": [
    "#### Iris versicolor"
   ]
  },
  {
   "cell_type": "code",
   "execution_count": null,
   "metadata": {},
   "outputs": [],
   "source": [
    "# iris_versicolor_una_capa = automate_testing(df = iris_versicolor,\n",
    "#                                             ind_vars = ['sepal_length', 'sepal_width', 'petal_length', 'petal_width'],\n",
    "#                                             dep_vars=['species'],\n",
    "#                                             hidden_layer_lengths=[[1], [2], [4], [8]],\n",
    "#                                             max_iter=[1000, 2000],\n",
    "#                                             learning_rate=[0.1, 0.01])\n",
    "# iris_versicolor_una_capa.to_csv('datasets/iris_versicolor_una_capa.csv', index=False)"
   ]
  },
  {
   "cell_type": "markdown",
   "metadata": {},
   "source": [
    "#### Iris virgnica"
   ]
  },
  {
   "cell_type": "code",
   "execution_count": null,
   "metadata": {},
   "outputs": [],
   "source": [
    "# iris_virginica_una_capa = automate_testing(df = iris_virginica,\n",
    "#                                             ind_vars = ['sepal_length', 'sepal_width', 'petal_length', 'petal_width'],\n",
    "#                                             dep_vars=['species'],\n",
    "#                                             hidden_layer_lengths=[[1], [2], [4], [8]],\n",
    "#                                             max_iter=[1000, 2000],\n",
    "#                                             learning_rate=[0.1, 0.01])\n",
    "# iris_virginica_una_capa.to_csv('datasets/iris_virginica_una_capa.csv', index=False)"
   ]
  },
  {
   "cell_type": "markdown",
   "metadata": {},
   "source": [
    "### Dos capas ocultas"
   ]
  },
  {
   "cell_type": "markdown",
   "metadata": {},
   "source": [
    "#### Iris setosa"
   ]
  },
  {
   "cell_type": "code",
   "execution_count": null,
   "metadata": {},
   "outputs": [],
   "source": [
    "# iris_setosa_dos_capas = automate_testing(df = iris_setosa,\n",
    "#                                             ind_vars = ['sepal_length', 'sepal_width', 'petal_length', 'petal_width'],\n",
    "#                                             dep_vars=['species'],\n",
    "#                                             hidden_layer_lengths=[[1, 2], [2, 4], [4, 8], [8, 16],\n",
    "#                                                                 [1, 1], [2, 2], [4, 4], [8, 8]],\n",
    "#                                             max_iter=[1000, 2000],\n",
    "#                                             learning_rate=[0.1, 0.01])\n",
    "# iris_setosa_dos_capas.to_csv('datasets/iris_setosa_dos_capas.csv', index=False)"
   ]
  },
  {
   "cell_type": "markdown",
   "metadata": {},
   "source": [
    "#### Iris versicolor"
   ]
  },
  {
   "cell_type": "code",
   "execution_count": null,
   "metadata": {},
   "outputs": [],
   "source": [
    "# iris_versicolor_dos_capas = automate_testing(df = iris_versicolor,\n",
    "#                                             ind_vars = ['sepal_length', 'sepal_width', 'petal_length', 'petal_width'],\n",
    "#                                             dep_vars=['species'],\n",
    "#                                             hidden_layer_lengths=[[1, 2], [2, 4], [4, 8], [8, 16],\n",
    "#                                                                 [1, 1], [2, 2], [4, 4], [8, 8]],\n",
    "#                                             max_iter=[1000, 2000],\n",
    "#                                             learning_rate=[0.1, 0.01])\n",
    "# iris_versicolor_dos_capas.to_csv('datasets/iris_versicolor_dos_capas.csv', index=False)"
   ]
  },
  {
   "cell_type": "markdown",
   "metadata": {},
   "source": [
    "#### Iris virginica"
   ]
  },
  {
   "cell_type": "code",
   "execution_count": null,
   "metadata": {},
   "outputs": [],
   "source": [
    "# iris_virginica_dos_capas = automate_testing(df = iris_virginica,\n",
    "#                                             ind_vars = ['sepal_length', 'sepal_width', 'petal_length', 'petal_width'],\n",
    "#                                             dep_vars=['species'],\n",
    "#                                             hidden_layer_lengths=[[1, 2], [2, 4], [4, 8], [8, 16],\n",
    "#                                                                 [1, 1], [2, 2], [4, 4], [8, 8]],\n",
    "#                                             max_iter=[1000, 2000],\n",
    "#                                             learning_rate=[0.1, 0.01])\n",
    "# iris_virginica_dos_capas.to_csv('datasets/iris_virginica_dos_capas.csv', index=False)"
   ]
  },
  {
   "cell_type": "markdown",
   "metadata": {},
   "source": [
    "## Clasificadores multiclase"
   ]
  },
  {
   "cell_type": "markdown",
   "metadata": {},
   "source": [
    "### Experimento 1 - Una capa oculta"
   ]
  },
  {
   "cell_type": "code",
   "execution_count": null,
   "metadata": {},
   "outputs": [],
   "source": [
    "# experimento_1 = automate_testing(df=iris_species,\n",
    "#                  ind_vars=['sepal_length', 'sepal_width', 'petal_length', 'petal_width'],\n",
    "#                  dep_vars=['species_Iris-setosa', 'species_Iris-versicolor', 'species_Iris-virginica'],\n",
    "#                  hidden_layer_lengths=[[1], [2], [4], [8]],\n",
    "#                  max_iter=[1000, 2000],\n",
    "#                  learning_rate=[0.1, 0.01])"
   ]
  },
  {
   "cell_type": "code",
   "execution_count": null,
   "metadata": {},
   "outputs": [],
   "source": [
    "#experimento_1.to_csv('datasets/results_multiclase_una_capa.csv', index=False)"
   ]
  },
  {
   "cell_type": "markdown",
   "metadata": {},
   "source": [
    "### Experimento 2 - Dos capas ocultas"
   ]
  },
  {
   "cell_type": "code",
   "execution_count": null,
   "metadata": {},
   "outputs": [],
   "source": [
    "# experimento_2 = automate_testing(df=iris_species,\n",
    "#                  ind_vars=['sepal_length', 'sepal_width', 'petal_length', 'petal_width'],\n",
    "#                  dep_vars=['species_Iris-setosa', 'species_Iris-versicolor', 'species_Iris-virginica'],\n",
    "#                  hidden_layer_lengths=[[1, 2], [2, 4], [4, 8], [8, 16],\n",
    "#                                        [1, 1], [2, 2], [4, 4], [8, 8]],\n",
    "#                  max_iter=[1000, 2000],\n",
    "#                  learning_rate=[0.1, 0.01])"
   ]
  },
  {
   "cell_type": "code",
   "execution_count": null,
   "metadata": {},
   "outputs": [],
   "source": [
    "#experimento_2.to_csv('datasets/results_multiclase_dos_capas.csv', index=False)"
   ]
  },
  {
   "cell_type": "markdown",
   "metadata": {},
   "source": [
    "# Parte 2. spam"
   ]
  },
  {
   "cell_type": "code",
   "execution_count": null,
   "metadata": {},
   "outputs": [],
   "source": [
    "columns = ['word_freq_make', 'word_freq_address', 'word_freq_all', 'word_freq_3d',\n",
    "           'word_freq_our', 'word_freq_over', 'word_freq_remove', 'word_freq_internet',\n",
    "           'word_freq_order', 'word_freq_mail', 'word_freq_receive', 'word_freq_will',\n",
    "           'word_freq_people', 'word_freq_report', 'word_freq_addresses', 'word_freq_free', \n",
    "           'word_freq_business', 'word_freq_email', 'word_freq_you', 'word_freq_credit',\n",
    "           'word_freq_your', 'word_freq_font', 'word_freq_000', 'word_freq_money',\n",
    "           'word_freq_hp', 'word_freq_hpl', 'word_freq_george', 'word_freq_650',\n",
    "           'word_freq_lab', 'word_freq_labs', 'word_freq_telnet', 'word_freq_857',\n",
    "           'word_freq_data', 'word_freq_415', 'word_freq_85', 'word_freq_technology',\n",
    "           'word_freq_1999', 'word_freq_parts', 'word_freq_pm', 'word_freq_direct',  \n",
    "           'word_freq_cs', 'word_freq_meeting', 'word_freq_original', 'word_freq_project',      \n",
    "           'word_freq_re', 'word_freq_edu', 'word_freq_table', 'word_freq_conference',   \n",
    "           'char_freq_;', 'char_freq_(', 'char_freq_[', 'char_freq_!', 'char_freq_$', \n",
    "           'char_freq_#', 'capital_run_length_average', 'capital_run_length_longest', \n",
    "           'capital_run_length_total', 'is_spam']\n",
    "spambase = pd.read_csv('datasets/spambase.data') ## hay que agregarle manualmente las columnas\n",
    "spambase.columns=columns\n",
    "spambase.head(5)"
   ]
  },
  {
   "cell_type": "code",
   "execution_count": null,
   "metadata": {},
   "outputs": [],
   "source": [
    "def normalize(column: pd.Series) -> pd.Series:\n",
    "    min_value = column.min()\n",
    "    max_value = column.max()\n",
    "\n",
    "    return (column - min_value) / (max_value - min_value)"
   ]
  },
  {
   "cell_type": "code",
   "execution_count": null,
   "metadata": {},
   "outputs": [],
   "source": [
    "columns = ['capital_run_length_average', \n",
    "           'capital_run_length_longest',\n",
    "           'capital_run_length_total']\n",
    "\n",
    "for c in columns:\n",
    "    spambase[c] = normalize(spambase[c])\n",
    "    \n",
    "spambase.head(5)"
   ]
  },
  {
   "cell_type": "code",
   "execution_count": null,
   "metadata": {},
   "outputs": [],
   "source": [
    "results_spam_base = automate_testing(df=spambase,\n",
    "                                     ind_vars=columns[:-1],\n",
    "                                     dep_vars=['is_spam'],\n",
    "                                     hidden_layer_lengths=[[1], [2], [4], [8],\n",
    "                                                           [1, 2], [2, 4], [4, 8],\n",
    "                                                           [1, 1], [2, 2], [4, 4], [8, 8]],\n",
    "                                     max_iter=[1000],\n",
    "                                     learning_rate=[0.01])"
   ]
  }
 ],
 "metadata": {
  "kernelspec": {
   "display_name": ".venv",
   "language": "python",
   "name": "python3"
  },
  "language_info": {
   "codemirror_mode": {
    "name": "ipython",
    "version": 3
   },
   "file_extension": ".py",
   "mimetype": "text/x-python",
   "name": "python",
   "nbconvert_exporter": "python",
   "pygments_lexer": "ipython3",
   "version": "3.11.4"
  }
 },
 "nbformat": 4,
 "nbformat_minor": 2
}
