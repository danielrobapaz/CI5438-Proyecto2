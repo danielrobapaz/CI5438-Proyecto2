{
 "cells": [
  {
   "cell_type": "code",
   "execution_count": null,
   "metadata": {},
   "outputs": [],
   "source": [
    "import pandas as pd\n",
    "import numpy as np\n",
    "from Neural_Network import Neural_Network\n",
    "import warnings\n",
    "import matplotlib.pyplot as plt\n",
    "import seaborn as sns\n",
    "warnings.filterwarnings('ignore')"
   ]
  },
  {
   "cell_type": "markdown",
   "metadata": {},
   "source": [
    "# Parte 1. Iris.csv."
   ]
  },
  {
   "cell_type": "code",
   "execution_count": null,
   "metadata": {},
   "outputs": [],
   "source": [
    "iris = pd.read_csv('datasets/iris.csv')"
   ]
  },
  {
   "cell_type": "code",
   "execution_count": null,
   "metadata": {},
   "outputs": [],
   "source": [
    "sns.pairplot(data=iris, hue='species')"
   ]
  },
  {
   "cell_type": "code",
   "execution_count": null,
   "metadata": {},
   "outputs": [],
   "source": [
    "def automate_testing(df: pd.DataFrame,\n",
    "                     ind_vars: [str],\n",
    "                     dep_vars: [str],\n",
    "                     hidden_layer_lengths: [[int]],\n",
    "                     max_iter : [int],\n",
    "                     learning_rate: [int]) -> pd.DataFrame:\n",
    "    \n",
    "    result_df = pd.DataFrame()\n",
    "    num_experimento = 1\n",
    "    for hidden_layers in hidden_layer_lengths:\n",
    "        for iter in max_iter:\n",
    "            for rate in learning_rate:\n",
    "                nw = Neural_Network(dataset=df,\n",
    "                                    ind_vars=ind_vars,\n",
    "                                    dep_vars=dep_vars,\n",
    "                                    hidden_layer_lengths=hidden_layers,\n",
    "                                    max_iter = iter,\n",
    "                                    learning_rate=rate)\n",
    "                \n",
    "                print(f\"Experimento {num_experimento}\")\n",
    "                [mean_error, min_error, max_error] = nw.get_model()\n",
    "                data = {\n",
    "                    'num_experimento':[num_experimento],\n",
    "                    'num_neuronas_por_capa_oculta': [hidden_layers],\n",
    "                    'tasa_de_aprendizaje': [rate],\n",
    "                    'iteraciones': [iter],\n",
    "                    'error_medio': [mean_error],\n",
    "                    'error_minimo': [min_error],\n",
    "                    'max_error': [max_error]\n",
    "                }\n",
    "                curr_df = pd.DataFrame(data=data)\n",
    "                result_df = pd.concat([result_df, curr_df])\n",
    "                num_experimento += 1\n",
    "\n",
    "    return result_df"
   ]
  },
  {
   "cell_type": "code",
   "execution_count": null,
   "metadata": {},
   "outputs": [],
   "source": [
    "iris_setosa = iris.copy()\n",
    "iris_setosa['species'] = iris_setosa['species'].apply(lambda s: 1 if s == 'Iris-setosa' else 0)"
   ]
  },
  {
   "cell_type": "code",
   "execution_count": null,
   "metadata": {},
   "outputs": [],
   "source": [
    "iris_versicolor = iris.copy()\n",
    "iris_versicolor['species'] = iris_versicolor['species'].apply(lambda s: 1 if s == 'Iris-versicolor' else 0)"
   ]
  },
  {
   "cell_type": "code",
   "execution_count": null,
   "metadata": {},
   "outputs": [],
   "source": [
    "iris_virginica = iris.copy()\n",
    "iris_virginica['species'] = iris_virginica['species'].apply(lambda s: 1 if s == 'Iris-virginica' else 0)"
   ]
  },
  {
   "cell_type": "code",
   "execution_count": null,
   "metadata": {},
   "outputs": [],
   "source": [
    "species = ['Iris-setosa', 'Iris-versicolor', 'Iris-virginica']\n",
    "iris_species = iris.copy()\n",
    "iris_species = pd.get_dummies(iris, columns=['species'])"
   ]
  },
  {
   "cell_type": "markdown",
   "metadata": {},
   "source": [
    "## Clasificadores binarios"
   ]
  },
  {
   "cell_type": "markdown",
   "metadata": {},
   "source": [
    "### Experimento 1 - Iris_setosa y una capa oculta"
   ]
  },
  {
   "cell_type": "markdown",
   "metadata": {},
   "source": [
    "### Experimento 2 - Iris_setora y dos capas ocultas"
   ]
  },
  {
   "cell_type": "markdown",
   "metadata": {},
   "source": [
    "### Experimento 3 - Iris virginica y una capa oculta"
   ]
  },
  {
   "cell_type": "markdown",
   "metadata": {},
   "source": [
    "### Experimento 4 - Iris virginica y dos capas ocultas"
   ]
  },
  {
   "cell_type": "markdown",
   "metadata": {},
   "source": [
    "### Experimento 5 - Iris versicolor y una capa oculta"
   ]
  },
  {
   "cell_type": "markdown",
   "metadata": {},
   "source": [
    "### Experimento 6 - Iris versicolor y dos capas ocultas"
   ]
  },
  {
   "cell_type": "markdown",
   "metadata": {},
   "source": [
    "## Clasificadores multiclase"
   ]
  },
  {
   "cell_type": "markdown",
   "metadata": {},
   "source": [
    "### Experimento 1 - Una capa oculta"
   ]
  },
  {
   "cell_type": "code",
   "execution_count": null,
   "metadata": {},
   "outputs": [],
   "source": [
    "experimento_1 = automate_testing(df=iris_species,\n",
    "                 ind_vars=['sepal_length', 'sepal_width', 'petal_length', 'petal_width'],\n",
    "                 dep_vars=['species_Iris-setosa', 'species_Iris-versicolor', 'species_Iris-virginica'],\n",
    "                 hidden_layer_lengths=[[1], [2], [4], [8]],\n",
    "                 max_iter=[1000, 2000],\n",
    "                 learning_rate=[0.1, 0.01])"
   ]
  },
  {
   "cell_type": "code",
   "execution_count": null,
   "metadata": {},
   "outputs": [],
   "source": [
    "experimento_1.to_csv('datasets/results_multiclase_una_capa.csv', index=False)"
   ]
  },
  {
   "cell_type": "markdown",
   "metadata": {},
   "source": [
    "### Experimento 2 - Dos capas ocultas"
   ]
  },
  {
   "cell_type": "code",
   "execution_count": null,
   "metadata": {},
   "outputs": [],
   "source": [
    "experimento_2 = automate_testing(df=iris_species,\n",
    "                 ind_vars=['sepal_length', 'sepal_width', 'petal_length', 'petal_width'],\n",
    "                 dep_vars=['species_Iris-setosa', 'species_Iris-versicolor', 'species_Iris-virginica'],\n",
    "                 hidden_layer_lengths=[[1, 2], [2, 4], [4, 8], [8, 16]],\n",
    "                 max_iter=[1000, 2000],\n",
    "                 learning_rate=[0.1, 0.01])"
   ]
  },
  {
   "cell_type": "markdown",
   "metadata": {},
   "source": [
    "# Parte 2. spam"
   ]
  },
  {
   "cell_type": "code",
   "execution_count": null,
   "metadata": {},
   "outputs": [],
   "source": [
    "spambase = pd.read_csv('datasets/spambase.data') ## hay que agregarle manualmente las columnas\n",
    "spambase"
   ]
  },
  {
   "cell_type": "code",
   "execution_count": null,
   "metadata": {},
   "outputs": [],
   "source": [
    "type(np.ndarray([1,2,3,4]))"
   ]
  }
 ],
 "metadata": {
  "kernelspec": {
   "display_name": ".venv",
   "language": "python",
   "name": "python3"
  },
  "language_info": {
   "codemirror_mode": {
    "name": "ipython",
    "version": 3
   },
   "file_extension": ".py",
   "mimetype": "text/x-python",
   "name": "python",
   "nbconvert_exporter": "python",
   "pygments_lexer": "ipython3",
   "version": "3.11.4"
  }
 },
 "nbformat": 4,
 "nbformat_minor": 2
}
